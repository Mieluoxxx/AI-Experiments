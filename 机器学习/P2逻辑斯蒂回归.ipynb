{
 "cells": [
  {
   "cell_type": "markdown",
   "metadata": {},
   "source": [
    "## 导包"
   ]
  },
  {
   "cell_type": "code",
   "execution_count": 26,
   "metadata": {},
   "outputs": [],
   "source": [
    "import warnings\n",
    "import numpy as np\n",
    "warnings.filterwarnings(\"ignore\")\n",
    "from sklearn.metrics import confusion_matrix\n",
    "from sklearn.metrics import roc_curve, auc\n",
    "import matplotlib.pyplot as plt\n",
    "import pandas as pd\n",
    "from sklearn.preprocessing import LabelEncoder\n",
    "from sklearn.linear_model import LogisticRegression\n",
    "from sklearn.metrics import accuracy_score\n"
   ]
  },
  {
   "cell_type": "code",
   "execution_count": 27,
   "metadata": {},
   "outputs": [],
   "source": [
    "def result_show(model, X_test, y_test, y_pred):\n",
    "    # 计算混淆矩阵\n",
    "    confusion = confusion_matrix(y_test, y_pred)\n",
    "    print(\"混淆矩阵:\")\n",
    "    print(confusion)\n",
    "\n",
    "    # 计算预测概率\n",
    "    y_pred_prob = model.predict_proba(X_test)[:, 1]\n",
    "    # 计算ROC曲线和AUC\n",
    "    fpr, tpr, _ = roc_curve(y_test, y_pred_prob)\n",
    "    roc_auc = auc(fpr, tpr)\n",
    "    print(f'{roc_auc:.4f}')\n",
    "\n",
    "    plt.title('Receiver Operating Characteristic')\n",
    "    plt.plot(fpr, tpr, 'b', label = 'AUC = %0.2f' % roc_auc)\n",
    "    plt.legend(loc = 'lower right')\n",
    "    plt.plot([0, 1], [0, 1],'r--')\n",
    "    plt.xlim([0, 1])\n",
    "    plt.ylim([0, 1])\n",
    "    plt.ylabel('True Positive Rate')\n",
    "    plt.xlabel('False Positive Rate')\n",
    "    plt.show()\n"
   ]
  },
  {
   "cell_type": "markdown",
   "metadata": {},
   "source": [
    "## 数据分析"
   ]
  },
  {
   "cell_type": "code",
   "execution_count": 28,
   "metadata": {},
   "outputs": [],
   "source": [
    "train_df = pd.read_csv('data/P2/train.csv')\n",
    "test_df = pd.read_csv('data/P2/test.csv')"
   ]
  },
  {
   "cell_type": "code",
   "execution_count": 29,
   "metadata": {},
   "outputs": [],
   "source": [
    "# 数据清洗\n",
    "# 1. 去掉无用的列\n",
    "train_df = train_df.drop(['人口普查员序号', '教育程度'], axis=1)\n",
    "test_df = test_df.drop(['人口普查员序号', '教育程度'], axis=1)"
   ]
  },
  {
   "cell_type": "code",
   "execution_count": 32,
   "metadata": {},
   "outputs": [
    {
     "data": {
      "text/html": [
       "<div>\n",
       "<style scoped>\n",
       "    .dataframe tbody tr th:only-of-type {\n",
       "        vertical-align: middle;\n",
       "    }\n",
       "\n",
       "    .dataframe tbody tr th {\n",
       "        vertical-align: top;\n",
       "    }\n",
       "\n",
       "    .dataframe thead th {\n",
       "        text-align: right;\n",
       "    }\n",
       "</style>\n",
       "<table border=\"1\" class=\"dataframe\">\n",
       "  <thead>\n",
       "    <tr style=\"text-align: right;\">\n",
       "      <th></th>\n",
       "      <th>年龄</th>\n",
       "      <th>教育年数</th>\n",
       "      <th>资本收益</th>\n",
       "      <th>资本支出</th>\n",
       "      <th>每周工作小时数</th>\n",
       "      <th>收入</th>\n",
       "    </tr>\n",
       "  </thead>\n",
       "  <tbody>\n",
       "    <tr>\n",
       "      <th>年龄</th>\n",
       "      <td>1.000000</td>\n",
       "      <td>0.038138</td>\n",
       "      <td>0.077736</td>\n",
       "      <td>0.057380</td>\n",
       "      <td>0.066875</td>\n",
       "      <td>0.231879</td>\n",
       "    </tr>\n",
       "    <tr>\n",
       "      <th>教育年数</th>\n",
       "      <td>0.038138</td>\n",
       "      <td>1.000000</td>\n",
       "      <td>0.128177</td>\n",
       "      <td>0.078855</td>\n",
       "      <td>0.147866</td>\n",
       "      <td>0.336221</td>\n",
       "    </tr>\n",
       "    <tr>\n",
       "      <th>资本收益</th>\n",
       "      <td>0.077736</td>\n",
       "      <td>0.128177</td>\n",
       "      <td>1.000000</td>\n",
       "      <td>-0.031310</td>\n",
       "      <td>0.080102</td>\n",
       "      <td>0.223558</td>\n",
       "    </tr>\n",
       "    <tr>\n",
       "      <th>资本支出</th>\n",
       "      <td>0.057380</td>\n",
       "      <td>0.078855</td>\n",
       "      <td>-0.031310</td>\n",
       "      <td>1.000000</td>\n",
       "      <td>0.055381</td>\n",
       "      <td>0.149318</td>\n",
       "    </tr>\n",
       "    <tr>\n",
       "      <th>每周工作小时数</th>\n",
       "      <td>0.066875</td>\n",
       "      <td>0.147866</td>\n",
       "      <td>0.080102</td>\n",
       "      <td>0.055381</td>\n",
       "      <td>1.000000</td>\n",
       "      <td>0.229942</td>\n",
       "    </tr>\n",
       "    <tr>\n",
       "      <th>收入</th>\n",
       "      <td>0.231879</td>\n",
       "      <td>0.336221</td>\n",
       "      <td>0.223558</td>\n",
       "      <td>0.149318</td>\n",
       "      <td>0.229942</td>\n",
       "      <td>1.000000</td>\n",
       "    </tr>\n",
       "  </tbody>\n",
       "</table>\n",
       "</div>"
      ],
      "text/plain": [
       "               年龄      教育年数      资本收益      资本支出   每周工作小时数        收入\n",
       "年龄       1.000000  0.038138  0.077736  0.057380  0.066875  0.231879\n",
       "教育年数     0.038138  1.000000  0.128177  0.078855  0.147866  0.336221\n",
       "资本收益     0.077736  0.128177  1.000000 -0.031310  0.080102  0.223558\n",
       "资本支出     0.057380  0.078855 -0.031310  1.000000  0.055381  0.149318\n",
       "每周工作小时数  0.066875  0.147866  0.080102  0.055381  1.000000  0.229942\n",
       "收入       0.231879  0.336221  0.223558  0.149318  0.229942  1.000000"
      ]
     },
     "execution_count": 32,
     "metadata": {},
     "output_type": "execute_result"
    }
   ],
   "source": [
    "train_df['收入'] = train_df['收入'].map({'<=50K': 0, '>50K': 1})\n",
    "# 选择数值特征\n",
    "numeric_features = train_df.select_dtypes(include=[np.number])\n",
    "# 计算相关矩阵\n",
    "correlation_matrix = numeric_features.corr()\n",
    "correlation_matrix"
   ]
  },
  {
   "cell_type": "code",
   "execution_count": null,
   "metadata": {},
   "outputs": [],
   "source": [
    "object_columns = train_df.select_dtypes(include=['object']).columns.tolist()\n",
    "le = LabelEncoder()\n",
    "for label in object_columns:\n",
    "    train_df[f'{label}'] = le.fit_transform(train_df[f'{label}'])\n",
    "\n",
    "object_columns = test_df.select_dtypes(include=['object']).columns.tolist()\n",
    "le = LabelEncoder()\n",
    "for label in object_columns:\n",
    "    test_df[f'{label}'] = le.fit_transform(test_df[f'{label}'])"
   ]
  },
  {
   "cell_type": "markdown",
   "metadata": {},
   "source": [
    "模型训练"
   ]
  },
  {
   "cell_type": "code",
   "execution_count": null,
   "metadata": {},
   "outputs": [],
   "source": [
    "from sklearn.model_selection import train_test_split\n",
    "\n",
    "X = train_df.drop(['收入'], axis=1)\n",
    "y = train_df['收入']\n",
    "\n",
    "X_train, X_val, y_train, y_val = train_test_split(X, y, test_size=0.2, random_state=42)"
   ]
  },
  {
   "cell_type": "code",
   "execution_count": null,
   "metadata": {},
   "outputs": [],
   "source": [
    "model = LogisticRegression(max_iter=1000)\n",
    "model.fit(X_train, y_train)\n",
    "\n",
    "y_pred = model.predict(X_val)\n",
    "accuracy = accuracy_score(y_val, y_pred)\n",
    "print(f'{accuracy:.4f}')\n",
    "result_show(model, X_val, y_val, y_pred)"
   ]
  },
  {
   "cell_type": "markdown",
   "metadata": {},
   "source": [
    "## 测试"
   ]
  },
  {
   "cell_type": "code",
   "execution_count": null,
   "metadata": {},
   "outputs": [],
   "source": [
    "y_pred = model.predict(test_df)\n",
    "y_pred_labels = ['<=50K' if pred == 0 else '>50K' for pred in y_pred]\n",
    "\n",
    "true_label = pd.read_csv('data/P2/true.csv')\n",
    "true_label_list = true_label.iloc[:, 0].tolist()\n",
    "len(true_label_list), len(y_pred_labels)\n",
    "\n",
    "from sklearn.metrics import accuracy_score, precision_score, recall_score, f1_score\n",
    "\n",
    "# 确保预测标签和真实标签的长度相同\n",
    "assert len(y_pred_labels) == len(true_label), \"预测标签和真实标签的长度不匹配\"\n",
    "\n",
    "# 计算性能指标\n",
    "accuracy = accuracy_score(true_label, y_pred_labels)\n",
    "precision = precision_score(true_label, y_pred_labels, pos_label='>50K')\n",
    "recall = recall_score(true_label, y_pred_labels, pos_label='>50K')\n",
    "f1 = f1_score(true_label, y_pred_labels, pos_label='>50K')\n",
    "\n",
    "# 打印性能指标\n",
    "print(f'Accuracy: {accuracy:.4f}')\n",
    "print(f'Precision: {precision:.4f}')\n",
    "print(f'Recall: {recall:.4f}')\n",
    "print(f'F1 Score: {f1:.4f}')"
   ]
  },
  {
   "cell_type": "markdown",
   "metadata": {},
   "source": [
    "| 准确率 | Precision |\n",
    "| --- | --- |\n",
    "| 0.8146 | 0.6912 |"
   ]
  },
  {
   "cell_type": "markdown",
   "metadata": {},
   "source": []
  }
 ],
 "metadata": {
  "kernelspec": {
   "display_name": "learn",
   "language": "python",
   "name": "python3"
  },
  "language_info": {
   "codemirror_mode": {
    "name": "ipython",
    "version": 3
   },
   "file_extension": ".py",
   "mimetype": "text/x-python",
   "name": "python",
   "nbconvert_exporter": "python",
   "pygments_lexer": "ipython3",
   "version": "3.10.12"
  }
 },
 "nbformat": 4,
 "nbformat_minor": 2
}
