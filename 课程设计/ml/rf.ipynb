{
 "cells": [
  {
   "cell_type": "code",
   "execution_count": 1,
   "metadata": {},
   "outputs": [],
   "source": [
    "import pandas as pd\n",
    "\n",
    "train_df = pd.read_csv('train.csv')\n",
    "test_df = pd.read_csv('test.csv')\n",
    "train_df = train_df.drop(['id', 'timecc'], axis=1)\n",
    "test_df = test_df.drop(['id', 'timecc'], axis=1)"
   ]
  },
  {
   "cell_type": "code",
   "execution_count": 2,
   "metadata": {},
   "outputs": [],
   "source": [
    "# 创建交叉特征\n",
    "train_df['kd_ratio'] = train_df['kills'] / (train_df['deaths'] + 1)\n",
    "train_df['multikill_ratio'] = train_df['largestmultikill'] / (train_df['kills'] + 1)\n",
    "train_df['heal_damage_ratio'] = train_df['totheal'] / (train_df['totdmgdealt'] + 1)\n",
    "train_df['damage_taken_ratio'] = train_df['totdmgtochamp'] / (train_df['totdmgtaken'] + 1)\n",
    "train_df['kill_turret_ratio'] = train_df['kills'] / (train_df['dmgtoturrets'] + 1)\n",
    "train_df['crit_damage_ratio'] = train_df['largestcrit'] / (train_df['totdmgdealt'] + 1)\n",
    "\n",
    "test_df['kd_ratio'] = test_df['kills'] / (test_df['deaths'] + 1)\n",
    "test_df['multikill_ratio'] = test_df['largestmultikill'] / (test_df['kills'] + 1)\n",
    "test_df['heal_damage_ratio'] = test_df['totheal'] / (test_df['totdmgdealt'] + 1)\n",
    "test_df['damage_taken_ratio'] = test_df['totdmgtochamp'] / (test_df['totdmgtaken'] + 1)\n",
    "test_df['kill_turret_ratio'] = test_df['kills'] / (test_df['dmgtoturrets'] + 1)\n",
    "test_df['crit_damage_ratio'] = test_df['largestcrit'] / (test_df['totdmgdealt'] + 1)"
   ]
  },
  {
   "cell_type": "code",
   "execution_count": 3,
   "metadata": {},
   "outputs": [],
   "source": [
    "from sklearn.model_selection import train_test_split\n",
    "\n",
    "X = train_df.drop('win', axis=1)\n",
    "y = train_df['win']\n",
    "\n",
    "X_train, X_val, y_train, y_val = train_test_split(X, y, test_size=0.1)"
   ]
  },
  {
   "cell_type": "code",
   "execution_count": 10,
   "metadata": {},
   "outputs": [
    {
     "name": "stderr",
     "output_type": "stream",
     "text": [
      "/home/moguw/miniconda3/envs/paddle/lib/python3.10/site-packages/sklearn/linear_model/_logistic.py:469: ConvergenceWarning: lbfgs failed to converge (status=1):\n",
      "STOP: TOTAL NO. of ITERATIONS REACHED LIMIT.\n",
      "\n",
      "Increase the number of iterations (max_iter) or scale the data as shown in:\n",
      "    https://scikit-learn.org/stable/modules/preprocessing.html\n",
      "Please also refer to the documentation for alternative solver options:\n",
      "    https://scikit-learn.org/stable/modules/linear_model.html#logistic-regression\n",
      "  n_iter_i = _check_optimize_result(\n"
     ]
    },
    {
     "name": "stdout",
     "output_type": "stream",
     "text": [
      "[LightGBM] [Info] Number of positive: 81013, number of negative: 80987\n",
      "[LightGBM] [Info] Auto-choosing row-wise multi-threading, the overhead of testing was 0.005511 seconds.\n",
      "You can set `force_row_wise=true` to remove the overhead.\n",
      "And if memory is not enough, you can set `force_col_wise=true`.\n",
      "[LightGBM] [Info] Total Bins 5699\n",
      "[LightGBM] [Info] Number of data points in the train set: 162000, number of used features: 35\n",
      "[LightGBM] [Info] [binary:BoostFromScore]: pavg=0.500080 -> initscore=0.000321\n",
      "[LightGBM] [Info] Start training from score 0.000321\n",
      "              precision    recall  f1-score   support\n",
      "\n",
      "           0       0.85      0.85      0.85      9022\n",
      "           1       0.85      0.85      0.85      8978\n",
      "\n",
      "    accuracy                           0.85     18000\n",
      "   macro avg       0.85      0.85      0.85     18000\n",
      "weighted avg       0.85      0.85      0.85     18000\n",
      "\n"
     ]
    }
   ],
   "source": [
    "from sklearn.ensemble import RandomForestClassifier\n",
    "from sklearn.linear_model import LogisticRegression\n",
    "from sklearn.ensemble import GradientBoostingClassifier\n",
    "from sklearn.ensemble import VotingClassifier\n",
    "from sklearn.metrics import classification_report\n",
    "\n",
    "\n",
    "clf1 = RandomForestClassifier()\n",
    "clf2 = LogisticRegression(max_iter=3000, n_jobs=8)\n",
    "clf3 = GradientBoostingClassifier()\n",
    "\n",
    "estimators = [(\"RandomForest\",clf1),(\"Logistic\",clf2),(\"GBDT\",clf3)]\n",
    "voting_clf = VotingClassifier(estimators, voting=\"soft\")\n",
    "\n",
    "# 训练投票分类器\n",
    "voting_clf.fit(X_train, y_train)\n",
    "\n",
    "# 在验证集上进行预测\n",
    "y_pred = voting_clf.predict(X_val)\n",
    "\n",
    "print(classification_report(y_val, y_pred))"
   ]
  },
  {
   "cell_type": "code",
   "execution_count": 5,
   "metadata": {},
   "outputs": [],
   "source": [
    "test_predict = voting_clf.predict(test_df)"
   ]
  },
  {
   "cell_type": "code",
   "execution_count": 7,
   "metadata": {},
   "outputs": [
    {
     "data": {
      "text/plain": [
       "array([0, 0, 1, ..., 0, 0, 1])"
      ]
     },
     "execution_count": 7,
     "metadata": {},
     "output_type": "execute_result"
    }
   ],
   "source": [
    "test_predict"
   ]
  },
  {
   "cell_type": "code",
   "execution_count": 8,
   "metadata": {},
   "outputs": [],
   "source": [
    "pd.DataFrame({'win': test_predict\n",
    "             }).to_csv('submission.csv', index=None)"
   ]
  },
  {
   "cell_type": "code",
   "execution_count": 9,
   "metadata": {},
   "outputs": [
    {
     "name": "stdout",
     "output_type": "stream",
     "text": [
      "submission.csv has been compressed into submission.zip\n"
     ]
    }
   ],
   "source": [
    "import zipfile\n",
    "\n",
    "# 定义文件名\n",
    "csv_filename = 'submission.csv'\n",
    "zip_filename = 'submission.zip'\n",
    "\n",
    "# 创建一个Zip文件并将CSV文件添加进去\n",
    "with zipfile.ZipFile(zip_filename, 'w', zipfile.ZIP_DEFLATED) as zipf:\n",
    "    zipf.write(csv_filename)\n",
    "\n",
    "print(f'{csv_filename} has been compressed into {zip_filename}')"
   ]
  },
  {
   "cell_type": "code",
   "execution_count": null,
   "metadata": {},
   "outputs": [],
   "source": []
  }
 ],
 "metadata": {
  "kernelspec": {
   "display_name": "paddle",
   "language": "python",
   "name": "python3"
  },
  "language_info": {
   "codemirror_mode": {
    "name": "ipython",
    "version": 3
   },
   "file_extension": ".py",
   "mimetype": "text/x-python",
   "name": "python",
   "nbconvert_exporter": "python",
   "pygments_lexer": "ipython3",
   "version": "3.10.10"
  }
 },
 "nbformat": 4,
 "nbformat_minor": 2
}
