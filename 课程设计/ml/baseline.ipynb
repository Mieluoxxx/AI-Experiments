{
 "cells": [
  {
   "cell_type": "code",
   "execution_count": 17,
   "metadata": {},
   "outputs": [],
   "source": [
    "import pandas as pd\n",
    "import numpy as np\n",
    "import seaborn as sns\n",
    "import matplotlib.pyplot as plt"
   ]
  },
  {
   "cell_type": "code",
   "execution_count": 18,
   "metadata": {},
   "outputs": [],
   "source": [
    "train_df = pd.read_csv('train.csv')\n",
    "test_df = pd.read_csv('test.csv')"
   ]
  },
  {
   "cell_type": "markdown",
   "metadata": {},
   "source": [
    "- id：玩家记录id\n",
    "- win：是否胜利，标签变量\n",
    "- kills：击杀次数\n",
    "- deaths：死亡次数\n",
    "- assists：助攻次数\n",
    "- largestkillingspree：最大 killing spree（游戏术语，意味大杀特杀。当你连续杀死三个对方英雄而中途没有死亡时）\n",
    "- largestmultikill：最大mult ikill（游戏术语，短时间内多重击杀）\n",
    "- longesttimespentliving：最长存活时间\n",
    "- doublekills：doublekills次数\n",
    "- triplekills：doublekills次数\n",
    "- quadrakills：quadrakills次数\n",
    "- pentakills：pentakills次数\n",
    "- totdmgdealt：总伤害\n",
    "- magicdmgdealt：魔法伤害\n",
    "- physicaldmgdealt：物理伤害\n",
    "- truedmgdealt：真实伤害\n",
    "- largestcrit：最大暴击伤害\n",
    "- totdmgtochamp：对对方玩家的伤害\n",
    "- magicdmgtochamp：对对方玩家的魔法伤害\n",
    "- physdmgtochamp：对对方玩家的物理伤害\n",
    "- truedmgtochamp：对对方玩家的真实伤害\n",
    "- totheal：治疗量\n",
    "- totunitshealed：痊愈的总单位\n",
    "- dmgtoturrets：对炮塔的伤害\n",
    "- timecc：法控时间\n",
    "- totdmgtaken：承受的伤害\n",
    "- magicdmgtaken：承受的魔法伤害\n",
    "- physdmgtaken：承受的物理伤害\n",
    "- truedmgtaken：承受的真实伤害\n",
    "- wardsplaced：侦查守卫放置次数\n",
    "- wardskilled：侦查守卫摧毁次数\n",
    "- firstblood：是否为firstblood 测试集中label字段win为空，需要选手预测。"
   ]
  },
  {
   "cell_type": "code",
   "execution_count": 19,
   "metadata": {},
   "outputs": [
    {
     "data": {
      "text/html": [
       "<div>\n",
       "<style scoped>\n",
       "    .dataframe tbody tr th:only-of-type {\n",
       "        vertical-align: middle;\n",
       "    }\n",
       "\n",
       "    .dataframe tbody tr th {\n",
       "        vertical-align: top;\n",
       "    }\n",
       "\n",
       "    .dataframe thead th {\n",
       "        text-align: right;\n",
       "    }\n",
       "</style>\n",
       "<table border=\"1\" class=\"dataframe\">\n",
       "  <thead>\n",
       "    <tr style=\"text-align: right;\">\n",
       "      <th></th>\n",
       "      <th>id</th>\n",
       "      <th>win</th>\n",
       "      <th>kills</th>\n",
       "      <th>deaths</th>\n",
       "      <th>assists</th>\n",
       "      <th>largestkillingspree</th>\n",
       "      <th>largestmultikill</th>\n",
       "      <th>longesttimespentliving</th>\n",
       "      <th>doublekills</th>\n",
       "      <th>triplekills</th>\n",
       "      <th>...</th>\n",
       "      <th>totunitshealed</th>\n",
       "      <th>dmgtoturrets</th>\n",
       "      <th>timecc</th>\n",
       "      <th>totdmgtaken</th>\n",
       "      <th>magicdmgtaken</th>\n",
       "      <th>physdmgtaken</th>\n",
       "      <th>truedmgtaken</th>\n",
       "      <th>wardsplaced</th>\n",
       "      <th>wardskilled</th>\n",
       "      <th>firstblood</th>\n",
       "    </tr>\n",
       "  </thead>\n",
       "  <tbody>\n",
       "    <tr>\n",
       "      <th>0</th>\n",
       "      <td>0</td>\n",
       "      <td>0</td>\n",
       "      <td>1</td>\n",
       "      <td>5</td>\n",
       "      <td>2</td>\n",
       "      <td>0</td>\n",
       "      <td>1</td>\n",
       "      <td>569</td>\n",
       "      <td>0</td>\n",
       "      <td>0</td>\n",
       "      <td>...</td>\n",
       "      <td>2</td>\n",
       "      <td>0</td>\n",
       "      <td>0</td>\n",
       "      <td>7819</td>\n",
       "      <td>2178</td>\n",
       "      <td>5239</td>\n",
       "      <td>401</td>\n",
       "      <td>4</td>\n",
       "      <td>1</td>\n",
       "      <td>0</td>\n",
       "    </tr>\n",
       "    <tr>\n",
       "      <th>1</th>\n",
       "      <td>1</td>\n",
       "      <td>0</td>\n",
       "      <td>5</td>\n",
       "      <td>8</td>\n",
       "      <td>7</td>\n",
       "      <td>3</td>\n",
       "      <td>1</td>\n",
       "      <td>880</td>\n",
       "      <td>0</td>\n",
       "      <td>0</td>\n",
       "      <td>...</td>\n",
       "      <td>4</td>\n",
       "      <td>303</td>\n",
       "      <td>0</td>\n",
       "      <td>24637</td>\n",
       "      <td>5607</td>\n",
       "      <td>17635</td>\n",
       "      <td>1394</td>\n",
       "      <td>10</td>\n",
       "      <td>0</td>\n",
       "      <td>0</td>\n",
       "    </tr>\n",
       "    <tr>\n",
       "      <th>2</th>\n",
       "      <td>2</td>\n",
       "      <td>1</td>\n",
       "      <td>1</td>\n",
       "      <td>6</td>\n",
       "      <td>16</td>\n",
       "      <td>0</td>\n",
       "      <td>1</td>\n",
       "      <td>593</td>\n",
       "      <td>0</td>\n",
       "      <td>0</td>\n",
       "      <td>...</td>\n",
       "      <td>3</td>\n",
       "      <td>329</td>\n",
       "      <td>0</td>\n",
       "      <td>18749</td>\n",
       "      <td>3651</td>\n",
       "      <td>14834</td>\n",
       "      <td>263</td>\n",
       "      <td>7</td>\n",
       "      <td>1</td>\n",
       "      <td>0</td>\n",
       "    </tr>\n",
       "    <tr>\n",
       "      <th>3</th>\n",
       "      <td>3</td>\n",
       "      <td>0</td>\n",
       "      <td>1</td>\n",
       "      <td>2</td>\n",
       "      <td>0</td>\n",
       "      <td>0</td>\n",
       "      <td>1</td>\n",
       "      <td>381</td>\n",
       "      <td>0</td>\n",
       "      <td>0</td>\n",
       "      <td>...</td>\n",
       "      <td>1</td>\n",
       "      <td>0</td>\n",
       "      <td>0</td>\n",
       "      <td>12134</td>\n",
       "      <td>1739</td>\n",
       "      <td>10318</td>\n",
       "      <td>76</td>\n",
       "      <td>8</td>\n",
       "      <td>1</td>\n",
       "      <td>0</td>\n",
       "    </tr>\n",
       "    <tr>\n",
       "      <th>4</th>\n",
       "      <td>4</td>\n",
       "      <td>0</td>\n",
       "      <td>4</td>\n",
       "      <td>11</td>\n",
       "      <td>25</td>\n",
       "      <td>0</td>\n",
       "      <td>1</td>\n",
       "      <td>455</td>\n",
       "      <td>0</td>\n",
       "      <td>0</td>\n",
       "      <td>...</td>\n",
       "      <td>8</td>\n",
       "      <td>0</td>\n",
       "      <td>0</td>\n",
       "      <td>27891</td>\n",
       "      <td>14068</td>\n",
       "      <td>12749</td>\n",
       "      <td>1073</td>\n",
       "      <td>34</td>\n",
       "      <td>2</td>\n",
       "      <td>0</td>\n",
       "    </tr>\n",
       "  </tbody>\n",
       "</table>\n",
       "<p>5 rows × 32 columns</p>\n",
       "</div>"
      ],
      "text/plain": [
       "   id  win  kills  deaths  assists  largestkillingspree  largestmultikill  \\\n",
       "0   0    0      1       5        2                    0                 1   \n",
       "1   1    0      5       8        7                    3                 1   \n",
       "2   2    1      1       6       16                    0                 1   \n",
       "3   3    0      1       2        0                    0                 1   \n",
       "4   4    0      4      11       25                    0                 1   \n",
       "\n",
       "   longesttimespentliving  doublekills  triplekills  ...  totunitshealed  \\\n",
       "0                     569            0            0  ...               2   \n",
       "1                     880            0            0  ...               4   \n",
       "2                     593            0            0  ...               3   \n",
       "3                     381            0            0  ...               1   \n",
       "4                     455            0            0  ...               8   \n",
       "\n",
       "   dmgtoturrets  timecc  totdmgtaken  magicdmgtaken  physdmgtaken  \\\n",
       "0             0       0         7819           2178          5239   \n",
       "1           303       0        24637           5607         17635   \n",
       "2           329       0        18749           3651         14834   \n",
       "3             0       0        12134           1739         10318   \n",
       "4             0       0        27891          14068         12749   \n",
       "\n",
       "   truedmgtaken  wardsplaced  wardskilled  firstblood  \n",
       "0           401            4            1           0  \n",
       "1          1394           10            0           0  \n",
       "2           263            7            1           0  \n",
       "3            76            8            1           0  \n",
       "4          1073           34            2           0  \n",
       "\n",
       "[5 rows x 32 columns]"
      ]
     },
     "execution_count": 19,
     "metadata": {},
     "output_type": "execute_result"
    }
   ],
   "source": [
    "train_df.head()"
   ]
  },
  {
   "cell_type": "code",
   "execution_count": 20,
   "metadata": {},
   "outputs": [],
   "source": [
    "train_df = train_df.drop(['id', 'timecc'], axis=1)\n",
    "test_df = test_df.drop(['id', 'timecc'], axis=1)\n",
    "\n",
    "# 创建交叉特征\n",
    "train_df['kd_ratio'] = train_df['kills'] / (train_df['deaths'] + 1)\n",
    "train_df['multikill_ratio'] = train_df['largestmultikill'] / (train_df['kills'] + 1)\n",
    "train_df['heal_damage_ratio'] = train_df['totheal'] / (train_df['totdmgdealt'] + 1)\n",
    "train_df['damage_taken_ratio'] = train_df['totdmgtochamp'] / (train_df['totdmgtaken'] + 1)\n",
    "train_df['kill_turret_ratio'] = train_df['kills'] / (train_df['dmgtoturrets'] + 1)\n",
    "train_df['crit_damage_ratio'] = train_df['largestcrit'] / (train_df['totdmgdealt'] + 1)\n",
    "\n",
    "test_df['kd_ratio'] = test_df['kills'] / (test_df['deaths'] + 1)\n",
    "test_df['multikill_ratio'] = test_df['largestmultikill'] / (test_df['kills'] + 1)\n",
    "test_df['heal_damage_ratio'] = test_df['totheal'] / (test_df['totdmgdealt'] + 1)\n",
    "test_df['damage_taken_ratio'] = test_df['totdmgtochamp'] / (test_df['totdmgtaken'] + 1)\n",
    "test_df['kill_turret_ratio'] = test_df['kills'] / (test_df['dmgtoturrets'] + 1)\n",
    "test_df['crit_damage_ratio'] = test_df['largestcrit'] / (test_df['totdmgdealt'] + 1)"
   ]
  },
  {
   "cell_type": "code",
   "execution_count": 21,
   "metadata": {},
   "outputs": [
    {
     "data": {
      "text/plain": [
       "win                       0.0\n",
       "kills                     0.0\n",
       "deaths                    0.0\n",
       "assists                   0.0\n",
       "largestkillingspree       0.0\n",
       "largestmultikill          0.0\n",
       "longesttimespentliving    0.0\n",
       "doublekills               0.0\n",
       "triplekills               0.0\n",
       "quadrakills               0.0\n",
       "pentakills                0.0\n",
       "totdmgdealt               0.0\n",
       "magicdmgdealt             0.0\n",
       "physicaldmgdealt          0.0\n",
       "truedmgdealt              0.0\n",
       "largestcrit               0.0\n",
       "totdmgtochamp             0.0\n",
       "magicdmgtochamp           0.0\n",
       "physdmgtochamp            0.0\n",
       "truedmgtochamp            0.0\n",
       "totheal                   0.0\n",
       "totunitshealed            0.0\n",
       "dmgtoturrets              0.0\n",
       "totdmgtaken               0.0\n",
       "magicdmgtaken             0.0\n",
       "physdmgtaken              0.0\n",
       "truedmgtaken              0.0\n",
       "wardsplaced               0.0\n",
       "wardskilled               0.0\n",
       "firstblood                0.0\n",
       "dtype: float64"
      ]
     },
     "execution_count": 21,
     "metadata": {},
     "output_type": "execute_result"
    }
   ],
   "source": [
    "train_df.isnull().mean(0)"
   ]
  },
  {
   "cell_type": "code",
   "execution_count": 22,
   "metadata": {},
   "outputs": [
    {
     "data": {
      "text/plain": [
       "<Axes: xlabel='win'>"
      ]
     },
     "execution_count": 22,
     "metadata": {},
     "output_type": "execute_result"
    },
    {
     "data": {
      "image/png": "[encoded data removed]",
      "text/plain": [
       "<Figure size 640x480 with 1 Axes>"
      ]
     },
     "metadata": {},
     "output_type": "display_data"
    }
   ],
   "source": [
    "train_df['win'].value_counts().plot(kind='bar')"
   ]
  },
  {
   "cell_type": "code",
   "execution_count": 23,
   "metadata": {},
   "outputs": [
    {
     "data": {
      "text/plain": [
       "<Axes: xlabel='kills', ylabel='Count'>"
      ]
     },
     "execution_count": 23,
     "metadata": {},
     "output_type": "execute_result"
    },
    {
     "data": {
      "image/png": "[encoded data removed]",
      "text/plain": [
       "<Figure size 640x480 with 1 Axes>"
      ]
     },
     "metadata": {},
     "output_type": "display_data"
    }
   ],
   "source": [
    "sns.histplot(train_df['kills'], kde=False)"
   ]
  },
  {
   "cell_type": "code",
   "execution_count": 24,
   "metadata": {},
   "outputs": [
    {
     "data": {
      "text/plain": [
       "<Axes: xlabel='deaths', ylabel='Count'>"
      ]
     },
     "execution_count": 24,
     "metadata": {},
     "output_type": "execute_result"
    },
    {
     "data": {
      "image/png": "[encoded data removed]",
      "text/plain": [
       "<Figure size 640x480 with 1 Axes>"
      ]
     },
     "metadata": {},
     "output_type": "display_data"
    }
   ],
   "source": [
    "sns.histplot(train_df['deaths'], kde=False)"
   ]
  },
  {
   "cell_type": "code",
   "execution_count": 25,
   "metadata": {},
   "outputs": [
    {
     "data": {
      "text/plain": [
       "<Axes: xlabel='win', ylabel='kills'>"
      ]
     },
     "execution_count": 25,
     "metadata": {},
     "output_type": "execute_result"
    },
    {
     "data": {
      "image/png": "[encoded data removed]",
      "text/plain": [
       "<Figure size 640x480 with 1 Axes>"
      ]
     },
     "metadata": {},
     "output_type": "display_data"
    }
   ],
   "source": [
    "sns.boxplot(data=train_df, y='kills', x='win')"
   ]
  },
  {
   "cell_type": "code",
   "execution_count": 26,
   "metadata": {},
   "outputs": [
    {
     "data": {
      "text/plain": [
       "Text(0, 0.5, 'deaths')"
      ]
     },
     "execution_count": 26,
     "metadata": {},
     "output_type": "execute_result"
    },
    {
     "data": {
      "image/png": "[encoded data removed]",
      "text/plain": [
       "<Figure size 640x480 with 1 Axes>"
      ]
     },
     "metadata": {},
     "output_type": "display_data"
    }
   ],
   "source": [
    "plt.scatter(train_df['kills'], train_df['deaths'])\n",
    "plt.xlabel('kills')\n",
    "plt.ylabel('deaths')"
   ]
  },
  {
   "cell_type": "code",
   "execution_count": 27,
   "metadata": {},
   "outputs": [],
   "source": [
    "# 归一化\n",
    "for col in train_df.columns[1:]:\n",
    "    train_df[col] /= train_df[col].max()\n",
    "    test_df[col] /= test_df[col].max()"
   ]
  },
  {
   "cell_type": "code",
   "execution_count": 28,
   "metadata": {},
   "outputs": [
    {
     "name": "stdout",
     "output_type": "stream",
     "text": [
      "Running verify PaddlePaddle program ... \n",
      "PaddlePaddle works well on 1 GPU.\n",
      "PaddlePaddle is installed successfully! Let's start deep learning with PaddlePaddle now.\n",
      "None\n",
      "gpu:0\n"
     ]
    }
   ],
   "source": [
    "import random\n",
    "import numpy as np\n",
    "\n",
    "import paddle\n",
    "import paddle.nn as nn\n",
    "from argparse import Namespace\n",
    "\n",
    "\n",
    "seed = 42\n",
    "# 设置随机数\n",
    "paddle.seed(seed)\n",
    "np.random.seed(seed)\n",
    "random.seed(seed)\n",
    "paddle.seed(42)\n",
    "\n",
    "print(paddle.utils.run_check())\n",
    "print(paddle.device.get_device())"
   ]
  },
  {
   "cell_type": "code",
   "execution_count": 29,
   "metadata": {},
   "outputs": [
    {
     "name": "stdout",
     "output_type": "stream",
     "text": [
      "Running verify PaddlePaddle program ... \n",
      "PaddlePaddle works well on 1 GPU.\n",
      "PaddlePaddle is installed successfully! Let's start deep learning with PaddlePaddle now.\n",
      "None\n",
      "gpu:0\n"
     ]
    }
   ],
   "source": [
    "args = Namespace(\n",
    "    # train\n",
    "    epochs = 10,\n",
    "    BATCH_SIZE = 100,\n",
    "    lr = 1e-2,\n",
    "    patience = 4,\n",
    "    device = 'gpu',\n",
    "    # model\n",
    "    hidden_size = 40,\n",
    "    input_size = 30,\n",
    ")\n",
    "\n",
    "print(paddle.utils.run_check())\n",
    "print(paddle.device.get_device())"
   ]
  },
  {
   "cell_type": "code",
   "execution_count": 30,
   "metadata": {},
   "outputs": [],
   "source": [
    "class Classifier(nn.Layer):\n",
    "    # self代表类的实例自身\n",
    "    def __init__(self):\n",
    "        # 初始化父类中的一些参数\n",
    "        super(Classifier, self).__init__()\n",
    "        \n",
    "        self.fc1 = paddle.nn.Linear(in_features=29, out_features=40)\n",
    "        self.fc2 = paddle.nn.Linear(in_features=40, out_features=1)\n",
    "        self.relu = paddle.nn.ReLU()\n",
    "    \n",
    "    # 网络的前向计算\n",
    "    def forward(self, inputs):\n",
    "        x = self.relu(self.fc1(inputs))\n",
    "        x = self.fc2(x)\n",
    "        return x"
   ]
  },
  {
   "cell_type": "code",
   "execution_count": 31,
   "metadata": {},
   "outputs": [],
   "source": [
    "device = paddle.set_device(args.device)\n",
    "model = Classifier()\n",
    "model.train()\n",
    "criterion = paddle.nn.BCEWithLogitsLoss()\n",
    "optimizer = paddle.optimizer.SGD(learning_rate=args.lr, parameters=model.parameters())\n",
    "\n",
    "train_loss = []\n",
    "valid_loss = []\n",
    "train_epochs_loss = []\n",
    "valid_epochs_loss = []"
   ]
  },
  {
   "cell_type": "code",
   "execution_count": 32,
   "metadata": {},
   "outputs": [
    {
     "name": "stdout",
     "output_type": "stream",
     "text": [
      "epoch: 0, iter: 0, loss is: 0.7029, acc is 0.3400\n",
      "epoch: 0, iter: 200, loss is: 0.6900, acc is 0.5000\n",
      "epoch: 0, iter: 400, loss is: 0.6825, acc is 0.6500\n",
      "epoch: 0, iter: 600, loss is: 0.6733, acc is 0.7200\n",
      "epoch: 0, iter: 800, loss is: 0.6555, acc is 0.7200\n",
      "epoch: 0, iter: 1000, loss is: 0.6530, acc is 0.7600\n",
      "epoch: 0, iter: 1200, loss is: 0.6478, acc is 0.7500\n",
      "epoch: 0, iter: 1400, loss is: 0.6495, acc is 0.7200\n",
      "epoch: 0, iter: 1600, loss is: 0.6404, acc is 0.7300\n",
      "epoch: 1, iter: 0, loss is: 0.6440, acc is 0.7600\n",
      "epoch: 1, iter: 200, loss is: 0.6239, acc is 0.7400\n",
      "epoch: 1, iter: 400, loss is: 0.6188, acc is 0.7300\n",
      "epoch: 1, iter: 600, loss is: 0.6175, acc is 0.7800\n",
      "epoch: 1, iter: 800, loss is: 0.6103, acc is 0.7400\n",
      "epoch: 1, iter: 1000, loss is: 0.6161, acc is 0.7100\n",
      "epoch: 1, iter: 1200, loss is: 0.6019, acc is 0.7800\n",
      "epoch: 1, iter: 1400, loss is: 0.5707, acc is 0.7700\n",
      "epoch: 1, iter: 1600, loss is: 0.5545, acc is 0.7900\n",
      "epoch: 2, iter: 0, loss is: 0.5209, acc is 0.7900\n",
      "epoch: 2, iter: 200, loss is: 0.5520, acc is 0.8100\n",
      "epoch: 2, iter: 400, loss is: 0.5979, acc is 0.6900\n",
      "epoch: 2, iter: 600, loss is: 0.5523, acc is 0.8000\n",
      "epoch: 2, iter: 800, loss is: 0.5462, acc is 0.7700\n",
      "epoch: 2, iter: 1000, loss is: 0.5451, acc is 0.7700\n",
      "epoch: 2, iter: 1200, loss is: 0.5502, acc is 0.7900\n",
      "epoch: 2, iter: 1400, loss is: 0.5490, acc is 0.7300\n",
      "epoch: 2, iter: 1600, loss is: 0.5131, acc is 0.7700\n",
      "epoch: 3, iter: 0, loss is: 0.5394, acc is 0.7800\n",
      "epoch: 3, iter: 200, loss is: 0.4654, acc is 0.8000\n",
      "epoch: 3, iter: 400, loss is: 0.4859, acc is 0.7800\n",
      "epoch: 3, iter: 600, loss is: 0.5129, acc is 0.7800\n",
      "epoch: 3, iter: 800, loss is: 0.5325, acc is 0.7800\n",
      "epoch: 3, iter: 1000, loss is: 0.4988, acc is 0.7400\n",
      "epoch: 3, iter: 1200, loss is: 0.5010, acc is 0.7700\n",
      "epoch: 3, iter: 1400, loss is: 0.4455, acc is 0.8000\n",
      "epoch: 3, iter: 1600, loss is: 0.4970, acc is 0.7500\n",
      "epoch: 4, iter: 0, loss is: 0.5548, acc is 0.7600\n",
      "epoch: 4, iter: 200, loss is: 0.4345, acc is 0.8200\n",
      "epoch: 4, iter: 400, loss is: 0.4609, acc is 0.8400\n",
      "epoch: 4, iter: 600, loss is: 0.5057, acc is 0.7700\n",
      "epoch: 4, iter: 800, loss is: 0.4181, acc is 0.7900\n",
      "epoch: 4, iter: 1000, loss is: 0.5143, acc is 0.7600\n",
      "epoch: 4, iter: 1200, loss is: 0.5232, acc is 0.8100\n",
      "epoch: 4, iter: 1400, loss is: 0.4187, acc is 0.8200\n",
      "epoch: 4, iter: 1600, loss is: 0.4155, acc is 0.8300\n",
      "epoch: 5, iter: 0, loss is: 0.3930, acc is 0.8700\n",
      "epoch: 5, iter: 200, loss is: 0.4674, acc is 0.7300\n",
      "epoch: 5, iter: 400, loss is: 0.4721, acc is 0.7800\n",
      "epoch: 5, iter: 600, loss is: 0.3989, acc is 0.8300\n",
      "epoch: 5, iter: 800, loss is: 0.4303, acc is 0.8300\n",
      "epoch: 5, iter: 1000, loss is: 0.4433, acc is 0.7900\n",
      "epoch: 5, iter: 1200, loss is: 0.4563, acc is 0.8100\n",
      "epoch: 5, iter: 1400, loss is: 0.4602, acc is 0.8200\n",
      "epoch: 5, iter: 1600, loss is: 0.4345, acc is 0.8300\n",
      "epoch: 6, iter: 0, loss is: 0.4492, acc is 0.8200\n",
      "epoch: 6, iter: 200, loss is: 0.3954, acc is 0.8500\n",
      "epoch: 6, iter: 400, loss is: 0.4530, acc is 0.7900\n",
      "epoch: 6, iter: 600, loss is: 0.4108, acc is 0.8300\n",
      "epoch: 6, iter: 800, loss is: 0.4998, acc is 0.7800\n",
      "epoch: 6, iter: 1000, loss is: 0.3837, acc is 0.8500\n",
      "epoch: 6, iter: 1200, loss is: 0.4035, acc is 0.8400\n",
      "epoch: 6, iter: 1400, loss is: 0.5158, acc is 0.7800\n",
      "epoch: 6, iter: 1600, loss is: 0.4339, acc is 0.8100\n",
      "epoch: 7, iter: 0, loss is: 0.4635, acc is 0.7800\n",
      "epoch: 7, iter: 200, loss is: 0.5098, acc is 0.7600\n",
      "epoch: 7, iter: 400, loss is: 0.3786, acc is 0.8300\n",
      "epoch: 7, iter: 600, loss is: 0.3623, acc is 0.9000\n",
      "epoch: 7, iter: 800, loss is: 0.3382, acc is 0.8700\n",
      "epoch: 7, iter: 1000, loss is: 0.3958, acc is 0.8200\n",
      "epoch: 7, iter: 1200, loss is: 0.4290, acc is 0.8000\n",
      "epoch: 7, iter: 1400, loss is: 0.4176, acc is 0.8500\n",
      "epoch: 7, iter: 1600, loss is: 0.3696, acc is 0.8600\n",
      "epoch: 8, iter: 0, loss is: 0.4179, acc is 0.8200\n",
      "epoch: 8, iter: 200, loss is: 0.3254, acc is 0.8700\n",
      "epoch: 8, iter: 400, loss is: 0.4617, acc is 0.7700\n",
      "epoch: 8, iter: 600, loss is: 0.3628, acc is 0.8900\n",
      "epoch: 8, iter: 800, loss is: 0.4759, acc is 0.7900\n",
      "epoch: 8, iter: 1000, loss is: 0.4180, acc is 0.8200\n",
      "epoch: 8, iter: 1200, loss is: 0.4212, acc is 0.8300\n",
      "epoch: 8, iter: 1400, loss is: 0.4345, acc is 0.8200\n",
      "epoch: 8, iter: 1600, loss is: 0.3720, acc is 0.8600\n",
      "epoch: 9, iter: 0, loss is: 0.4455, acc is 0.7600\n",
      "epoch: 9, iter: 200, loss is: 0.4472, acc is 0.8400\n",
      "epoch: 9, iter: 400, loss is: 0.4247, acc is 0.8200\n",
      "epoch: 9, iter: 600, loss is: 0.3285, acc is 0.8800\n",
      "epoch: 9, iter: 800, loss is: 0.3710, acc is 0.8500\n",
      "epoch: 9, iter: 1000, loss is: 0.5088, acc is 0.7700\n",
      "epoch: 9, iter: 1200, loss is: 0.3986, acc is 0.8300\n",
      "epoch: 9, iter: 1400, loss is: 0.3233, acc is 0.8900\n",
      "epoch: 9, iter: 1600, loss is: 0.4411, acc is 0.8200\n"
     ]
    }
   ],
   "source": [
    "training_data = train_df.iloc[:-1000,].values.astype(np.float32)\n",
    "val_data = train_df.iloc[-1000:, ].values.astype(np.float32)\n",
    "\n",
    "# 定义外层循环\n",
    "for epoch_id in range(args.epochs):\n",
    "    # 在每轮迭代开始之前，将训练数据的顺序随机的打乱\n",
    "    \n",
    "    np.random.shuffle(training_data)\n",
    "    \n",
    "    # 将训练数据进行拆分，每个batch包含10条数据\n",
    "    mini_batches = [training_data[k:k+args.BATCH_SIZE] for k in range(0, len(training_data), args.BATCH_SIZE)]\n",
    "    \n",
    "    # 定义内层循环\n",
    "    for iter_id, mini_batch in enumerate(mini_batches):\n",
    "        x = np.array(mini_batch[:, 1:]) # 获得当前批次训练数据\n",
    "        y = np.array(mini_batch[:, :1]) # 获得当前批次训练标签\n",
    "        \n",
    "        # 将numpy数据转为飞桨动态图tensor的格式\n",
    "        features = paddle.to_tensor(x).to(args.device)\n",
    "        y = paddle.to_tensor(y).to(args.device)\n",
    "        \n",
    "        # 前向计算\n",
    "        predicts = model(features)\n",
    "        \n",
    "        # 计算损失\n",
    "        loss = criterion(predicts, y, )\n",
    "        avg_loss = paddle.mean(loss)\n",
    "        if iter_id%200==0:\n",
    "            acc = (predicts > 0).astype(int).flatten() == y.flatten().astype(int)\n",
    "            acc = acc.astype(float).mean()\n",
    "\n",
    "            print(\"epoch: {}, iter: {}, loss is: {:.4f}, acc is {:.4f}\".format(epoch_id, iter_id, avg_loss.numpy(), acc.numpy()))\n",
    "        \n",
    "        # 反向传播，计算每层参数的梯度值\n",
    "        avg_loss.backward()\n",
    "        # 更新参数，根据设置好的学习率迭代一步\n",
    "        optimizer.step()\n",
    "        # 清空梯度变量，以备下一轮计算\n",
    "        optimizer.clear_grad()"
   ]
  },
  {
   "cell_type": "code",
   "execution_count": 33,
   "metadata": {},
   "outputs": [],
   "source": [
    "model.eval()\n",
    "test_data = paddle.to_tensor(test_df.values.astype(np.float32))\n",
    "test_predict = model(test_data)\n",
    "test_predict = (test_predict > 0).astype(int).flatten()"
   ]
  },
  {
   "cell_type": "code",
   "execution_count": 34,
   "metadata": {},
   "outputs": [],
   "source": [
    "pd.DataFrame({'win':\n",
    "              test_predict.numpy()\n",
    "             }).to_csv('submission.csv', index=None)"
   ]
  },
  {
   "cell_type": "code",
   "execution_count": 35,
   "metadata": {},
   "outputs": [
    {
     "name": "stdout",
     "output_type": "stream",
     "text": [
      "submission.csv has been compressed into submission.zip\n"
     ]
    }
   ],
   "source": [
    "import zipfile\n",
    "\n",
    "# 定义文件名\n",
    "csv_filename = 'submission.csv'\n",
    "zip_filename = 'submission.zip'\n",
    "\n",
    "# 创建一个Zip文件并将CSV文件添加进去\n",
    "with zipfile.ZipFile(zip_filename, 'w', zipfile.ZIP_DEFLATED) as zipf:\n",
    "    zipf.write(csv_filename)\n",
    "\n",
    "print(f'{csv_filename} has been compressed into {zip_filename}')"
   ]
  },
  {
   "cell_type": "code",
   "execution_count": null,
   "metadata": {},
   "outputs": [],
   "source": []
  }
 ],
 "metadata": {
  "kernelspec": {
   "display_name": "paddle",
   "language": "python",
   "name": "python3"
  },
  "language_info": {
   "codemirror_mode": {
    "name": "ipython",
    "version": 3
   },
   "file_extension": ".py",
   "mimetype": "text/x-python",
   "name": "python",
   "nbconvert_exporter": "python",
   "pygments_lexer": "ipython3",
   "version": "3.10.10"
  }
 },
 "nbformat": 4,
 "nbformat_minor": 2
}
